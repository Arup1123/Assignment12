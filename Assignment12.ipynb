{
 "cells": [
  {
   "cell_type": "markdown",
   "id": "f14fe697-43fb-4da9-a7e9-90b1917684ce",
   "metadata": {},
   "source": [
    "Assignment 12"
   ]
  },
  {
   "cell_type": "markdown",
   "id": "cafe106d-0549-4d27-87be-0278fde36982",
   "metadata": {},
   "source": [
    "Q1. What is a databases? Differentiate between SQL and NOSQL databases."
   ]
  },
  {
   "cell_type": "markdown",
   "id": "5bd39abf-7678-4d78-a3ac-2e7022a032dd",
   "metadata": {},
   "source": [
    "Ans: A database is an organized collection of data stored and accessed electronically.\n",
    "1. SQL is a Relational database management system. Whereas, NOSQL is Non-relational or distributed database system.\n",
    "2. These databases have static or predefined schema. Whereas, NOSQL databases have a dynamic schema.\n",
    "3. SQL databases are not suited for hierarchical data storage. Whereas, NOSQL databases are best suited for hierarchical    data storage.\n",
    "4. SQL databases are best suited for complex queries Vertically Scalable. Whereas, NOSQL databases are not so good for\n",
    "   complex queries Horizontally Scalable."
   ]
  },
  {
   "cell_type": "markdown",
   "id": "06e2dd90-9130-43b5-8440-ff3e0b77899d",
   "metadata": {},
   "source": [
    "Q2. What is DDL? Explain why CREATE,DROP,ALTER,and TRUNCATE are used with an example."
   ]
  },
  {
   "cell_type": "markdown",
   "id": "266a0c39-1b1c-4842-9c52-eba3c9af84f1",
   "metadata": {},
   "source": [
    "Ans: DDL or data definition language actually consists of the SQL commands that can be used to define the database            schema.\n",
    "     CREATE: This command is used to create the database or its objects (like table, index,function, views, store,\n",
    "             procedure, and triggers).\n",
    "             For example:\n",
    "             Let us create a database test:\n",
    "             CREATE DATABASE test;\n",
    "     DROP: This command is used to delete objects from the database.\n",
    "           For example:\n",
    "           To delete  the database test:\n",
    "           DROP DATABASE test;\n",
    "     ALTER: This command is used to alter the structure of the database.\n",
    "            For example:\n",
    "            To alter table add column:\n",
    "            ALTER TABLE students;\n",
    "            ADD email varchar(255);\n",
    "     TRUNCATE: This is used to remove all records from a table, including all spaces allocated for the records are                      removed.\n",
    "               For example:\n",
    "               To truncate the student table from the student_data database:\n",
    "               TRUNCATE TABLE student;"
   ]
  },
  {
   "cell_type": "markdown",
   "id": "7bd955a3-ac54-40b9-b679-464aa2ff24e1",
   "metadata": {},
   "source": [
    "Q3. What is DML? Explain INSERT, UPDATE, and DELETE with an example."
   ]
  },
  {
   "cell_type": "markdown",
   "id": "fb90b76a-5656-4d03-a576-6c5cf9195be3",
   "metadata": {},
   "source": [
    "Ans: DML or data manipulation language consists of SQL commands that deal with the manipulating of data present in the \n",
    "     database.\n",
    "     INSERT: It is used to insert data in to a table.\n",
    "             For example:\n",
    "             Suppose there is a Student database and we want to add values:\n",
    "             INSERT INTO Student VALUES\n",
    "             ('5','HARSH','WEST BENGAL','XXXXXX','19');\n",
    "     UPDATE: It is used to update existing data within a table.\n",
    "             For example:\n",
    "             Let us update the column NAME and set the values to 'Nitin' in the rows where the age is 22:\n",
    "             UPDATE Customer SET NAME='Nitin' WHERE Age=22;\n",
    "     DELETE: It is used to delete records from a database table.\n",
    "             For example:\n",
    "             Delete the rows where NAME='Rithvik':\n",
    "             DELETE FROM student WHERE NAME='Rithvik';\n",
    "             "
   ]
  },
  {
   "cell_type": "markdown",
   "id": "fa6742e8-555b-4572-8cc7-3c36d362bc27",
   "metadata": {},
   "source": [
    "Q4. What is DQL? Explain SELECT with an example."
   ]
  },
  {
   "cell_type": "markdown",
   "id": "1b255661-d77a-473f-9bed-bd309c7c644b",
   "metadata": {},
   "source": [
    "Ans: DQL or data query language statements are used to performing queries on the data within schema objects.\n",
    "     SELECT: Select command is used to fetch the data in a set of records from a table, view or a group of tables, views\n",
    "             or a group of tables, views by making use of SQL joins. Retrieval of data using SQL statements can be done                by using different predicates like -\n",
    "             1. Where\n",
    "             2. Group by\n",
    "             3. Having\n",
    "             4. Order by\n",
    "             For example:\n",
    "             Suppose a user wants to retrieve all the data records of a table, can be performed by using '*'.\n",
    "             First let's create a table and insert data in to table before retrieving the data using select command.Then,\n",
    "             write the command, where Customer is the name of the table.\n",
    "             SELECT * FROM Customer;"
   ]
  },
  {
   "cell_type": "markdown",
   "id": "293600d6-0a6f-4dda-a08e-f87633614b30",
   "metadata": {},
   "source": [
    "Q5. Explain Primary Key and Foreign Key."
   ]
  },
  {
   "cell_type": "markdown",
   "id": "0d2383be-b276-4b3b-a7fd-6a93675df8c2",
   "metadata": {},
   "source": [
    "Ans: A Primary Key is a single column/field in a table that uniquely identifies each record in a database table. It is\n",
    "     the most appropriate candidate key to be the main key of any table.\n",
    "     A table can have only one Primary Key, which may consist of single or multiple fields.\n",
    "     Let us say, We are developing an application called University Management System to handle all the data within an\n",
    "     organization. When designing the architecture for the database table for students or faculty, where we can make the\n",
    "     student_id or faculty_id column/field a Primary Key, so it prevents we from assigning the same id to multiple            students/faculties.\n",
    "     Foreign Key is a column (or combination of columns) in a table whose values match the values of a Primary Key column\n",
    "     in another table. Using the Foreign Key, we can link two tables together.\n",
    "     In addition to linking the tables, the Foreign Key constraint ensures referential integrity by preventing changes to\n",
    "     data in the primary key table from invalidating the link to data in the foreign key table. i.e, a Foreign Key            prevents operations, like \"dropping the table\", that would eliminate the connection between two tables.\n",
    "     Suppose we have two tables namely, std_add and std_marks such that std_add contains the column/attributes Roll_no,\n",
    "     Name, Age, Address, and Pin. std_marks contains the columns Roll_no,Subject,Marks, and Date.\n",
    "     Then, the column Roll_no of the std_add table is the primary key, whereas, the column Roll_no of the std_marks is a\n",
    "     Foreign Key."
   ]
  },
  {
   "cell_type": "markdown",
   "id": "e122d387-3b68-4aa9-9901-0922d41033f7",
   "metadata": {},
   "source": [
    "Q6. Write a python code to connect MySQL to python. Explain the cursor() and execute() method."
   ]
  },
  {
   "cell_type": "code",
   "execution_count": null,
   "id": "099ad2de-a400-497a-874e-3b95904f161e",
   "metadata": {},
   "outputs": [],
   "source": [
    "Ans: \n",
    "import mysql.connector\n",
    "mydb = mysql.connector.connect(\n",
    "  host=\"localhost\",\n",
    "  user=\"abc\",\n",
    "  password=\"password\"\n",
    ")\n",
    "print(mydb)\n",
    "mycursor = mydb.cursor()\n",
    "mycursor.execute(\"SHOW DATABASES\")\n",
    "for x in mycursor:\n",
    "  print(x)"
   ]
  },
  {
   "cell_type": "markdown",
   "id": "633492b3-3280-47f7-8a06-2617e68cc6ec",
   "metadata": {},
   "source": [
    "2nd part:\n",
    "cursor() method is used to execute statements to communicate with the MySQL database. We can create a cursor object using\n",
    "cursor() method of the connection object.\n",
    "To perform the same query in python, we must create an instance of the cursor() object. From the cursor object, we can\n",
    "SQL commands as a string to the execute() method, which will execute the code. \n"
   ]
  },
  {
   "cell_type": "code",
   "execution_count": null,
   "id": "48a0b6a5-ffcd-47ea-ae01-937622f4c59f",
   "metadata": {},
   "outputs": [],
   "source": [
    "#consider an example:\n",
    "import mysql.connector\n",
    "mydb = mysql.connector.connect(\n",
    "  host=\"localhost\",\n",
    "  user=\"abc\",\n",
    "  password=\"password\"\n",
    ")\n",
    "print(mydb)\n",
    "mycursor = mydb.cursor()              #Create a cursor object using cursor() method.\n",
    "mycursor.execute(\"SHOW DATABASES\")     #\"SHOW DATABASES\" passes as string argument in execute() method, this execute the code."
   ]
  },
  {
   "cell_type": "markdown",
   "id": "624ab6d2-9b3b-4e59-a6be-f3e0c9650b22",
   "metadata": {},
   "source": [
    "Q7. Give the order of execution of SQL clauses in an SQL query. "
   ]
  },
  {
   "cell_type": "markdown",
   "id": "8694d774-9cf4-4ade-943d-e9c9b69fc4c6",
   "metadata": {},
   "source": [
    "Ans: 1. FROM/JOIN\n",
    "     2. WHERE\n",
    "     3. GROUP BY\n",
    "     4. HAVING\n",
    "     5. SELECT\n",
    "     6. ORDER BY\n",
    "     7. LIMIT/OFFSET"
   ]
  },
  {
   "cell_type": "code",
   "execution_count": null,
   "id": "2ffc8e96-b193-4364-b27e-5512c96b0e3e",
   "metadata": {},
   "outputs": [],
   "source": []
  }
 ],
 "metadata": {
  "kernelspec": {
   "display_name": "Python 3 (ipykernel)",
   "language": "python",
   "name": "python3"
  },
  "language_info": {
   "codemirror_mode": {
    "name": "ipython",
    "version": 3
   },
   "file_extension": ".py",
   "mimetype": "text/x-python",
   "name": "python",
   "nbconvert_exporter": "python",
   "pygments_lexer": "ipython3",
   "version": "3.10.8"
  }
 },
 "nbformat": 4,
 "nbformat_minor": 5
}
